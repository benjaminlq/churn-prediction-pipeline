{
  "cells": [
    {
      "cell_type": "code",
      "execution_count": 1,
      "metadata": {
        "colab": {
          "base_uri": "https://localhost:8080/",
          "height": 1000
        },
        "collapsed": true,
        "id": "UBnw8lWBrBhL",
        "jupyter": {
          "outputs_hidden": true
        },
        "outputId": "0641417a-ffe0-441d-8033-11bc99c38314",
        "tags": []
      },
      "outputs": [
        {
          "output_type": "stream",
          "name": "stdout",
          "text": [
            "Looking in indexes: https://pypi.org/simple, https://us-python.pkg.dev/colab-wheels/public/simple/\n",
            "Requirement already satisfied: pip in /usr/local/lib/python3.7/dist-packages (21.1.3)\n",
            "Collecting pip\n",
            "  Downloading pip-22.1.2-py3-none-any.whl (2.1 MB)\n",
            "\u001b[K     |████████████████████████████████| 2.1 MB 7.1 MB/s \n",
            "\u001b[?25hInstalling collected packages: pip\n",
            "  Attempting uninstall: pip\n",
            "    Found existing installation: pip 21.1.3\n",
            "    Uninstalling pip-21.1.3:\n",
            "      Successfully uninstalled pip-21.1.3\n",
            "Successfully installed pip-22.1.2\n",
            "Looking in indexes: https://pypi.org/simple, https://us-python.pkg.dev/colab-wheels/public/simple/\n",
            "Collecting google-cloud-aiplatform==1.3.0\n",
            "  Downloading google_cloud_aiplatform-1.3.0-py2.py3-none-any.whl (1.3 MB)\n",
            "\u001b[2K     \u001b[90m━━━━━━━━━━━━━━━━━━━━━━━━━━━━━━━━━━━━━━━━\u001b[0m \u001b[32m1.3/1.3 MB\u001b[0m \u001b[31m22.3 MB/s\u001b[0m eta \u001b[36m0:00:00\u001b[0m\n",
            "\u001b[?25hCollecting google-cloud-storage<2.0.0dev,>=1.32.0\n",
            "  Downloading google_cloud_storage-1.44.0-py2.py3-none-any.whl (106 kB)\n",
            "\u001b[2K     \u001b[90m━━━━━━━━━━━━━━━━━━━━━━━━━━━━━━━━━━━━━━━\u001b[0m \u001b[32m106.8/106.8 kB\u001b[0m \u001b[31m9.8 MB/s\u001b[0m eta \u001b[36m0:00:00\u001b[0m\n",
            "\u001b[?25hRequirement already satisfied: google-cloud-bigquery<3.0.0dev,>=1.15.0 in /usr/local/lib/python3.7/dist-packages (from google-cloud-aiplatform==1.3.0) (1.21.0)\n",
            "Collecting proto-plus>=1.10.1\n",
            "  Downloading proto_plus-1.20.6-py3-none-any.whl (46 kB)\n",
            "\u001b[2K     \u001b[90m━━━━━━━━━━━━━━━━━━━━━━━━━━━━━━━━━━━━━━━━\u001b[0m \u001b[32m46.4/46.4 kB\u001b[0m \u001b[31m5.7 MB/s\u001b[0m eta \u001b[36m0:00:00\u001b[0m\n",
            "\u001b[?25hRequirement already satisfied: packaging>=14.3 in /usr/local/lib/python3.7/dist-packages (from google-cloud-aiplatform==1.3.0) (21.3)\n",
            "Requirement already satisfied: google-api-core[grpc]<3.0.0dev,>=1.26.0 in /usr/local/lib/python3.7/dist-packages (from google-cloud-aiplatform==1.3.0) (1.31.6)\n",
            "Requirement already satisfied: setuptools>=40.3.0 in /usr/local/lib/python3.7/dist-packages (from google-api-core[grpc]<3.0.0dev,>=1.26.0->google-cloud-aiplatform==1.3.0) (57.4.0)\n",
            "Requirement already satisfied: googleapis-common-protos<2.0dev,>=1.6.0 in /usr/local/lib/python3.7/dist-packages (from google-api-core[grpc]<3.0.0dev,>=1.26.0->google-cloud-aiplatform==1.3.0) (1.56.2)\n",
            "Requirement already satisfied: protobuf<4.0.0dev,>=3.12.0 in /usr/local/lib/python3.7/dist-packages (from google-api-core[grpc]<3.0.0dev,>=1.26.0->google-cloud-aiplatform==1.3.0) (3.17.3)\n",
            "Requirement already satisfied: google-auth<2.0dev,>=1.25.0 in /usr/local/lib/python3.7/dist-packages (from google-api-core[grpc]<3.0.0dev,>=1.26.0->google-cloud-aiplatform==1.3.0) (1.35.0)\n",
            "Requirement already satisfied: pytz in /usr/local/lib/python3.7/dist-packages (from google-api-core[grpc]<3.0.0dev,>=1.26.0->google-cloud-aiplatform==1.3.0) (2022.1)\n",
            "Requirement already satisfied: six>=1.13.0 in /usr/local/lib/python3.7/dist-packages (from google-api-core[grpc]<3.0.0dev,>=1.26.0->google-cloud-aiplatform==1.3.0) (1.15.0)\n",
            "Requirement already satisfied: requests<3.0.0dev,>=2.18.0 in /usr/local/lib/python3.7/dist-packages (from google-api-core[grpc]<3.0.0dev,>=1.26.0->google-cloud-aiplatform==1.3.0) (2.23.0)\n",
            "Requirement already satisfied: grpcio<2.0dev,>=1.29.0 in /usr/local/lib/python3.7/dist-packages (from google-api-core[grpc]<3.0.0dev,>=1.26.0->google-cloud-aiplatform==1.3.0) (1.46.3)\n",
            "Requirement already satisfied: google-cloud-core<2.0dev,>=1.0.3 in /usr/local/lib/python3.7/dist-packages (from google-cloud-bigquery<3.0.0dev,>=1.15.0->google-cloud-aiplatform==1.3.0) (1.0.3)\n",
            "Requirement already satisfied: google-resumable-media!=0.4.0,<0.5.0dev,>=0.3.1 in /usr/local/lib/python3.7/dist-packages (from google-cloud-bigquery<3.0.0dev,>=1.15.0->google-cloud-aiplatform==1.3.0) (0.4.1)\n",
            "Collecting google-cloud-core<2.0dev,>=1.0.3\n",
            "  Downloading google_cloud_core-1.7.2-py2.py3-none-any.whl (28 kB)\n",
            "Collecting google-cloud-storage<2.0.0dev,>=1.32.0\n",
            "  Downloading google_cloud_storage-1.43.0-py2.py3-none-any.whl (106 kB)\n",
            "\u001b[2K     \u001b[90m━━━━━━━━━━━━━━━━━━━━━━━━━━━━━━━━━━━━━━\u001b[0m \u001b[32m106.6/106.6 kB\u001b[0m \u001b[31m12.8 MB/s\u001b[0m eta \u001b[36m0:00:00\u001b[0m\n",
            "\u001b[?25h  Downloading google_cloud_storage-1.42.3-py2.py3-none-any.whl (105 kB)\n",
            "\u001b[2K     \u001b[90m━━━━━━━━━━━━━━━━━━━━━━━━━━━━━━━━━━━━━━\u001b[0m \u001b[32m106.0/106.0 kB\u001b[0m \u001b[31m11.4 MB/s\u001b[0m eta \u001b[36m0:00:00\u001b[0m\n",
            "\u001b[?25h  Downloading google_cloud_storage-1.42.2-py2.py3-none-any.whl (105 kB)\n",
            "\u001b[2K     \u001b[90m━━━━━━━━━━━━━━━━━━━━━━━━━━━━━━━━━━━━━━\u001b[0m \u001b[32m105.9/105.9 kB\u001b[0m \u001b[31m11.9 MB/s\u001b[0m eta \u001b[36m0:00:00\u001b[0m\n",
            "\u001b[?25h  Downloading google_cloud_storage-1.42.1-py2.py3-none-any.whl (105 kB)\n",
            "\u001b[2K     \u001b[90m━━━━━━━━━━━━━━━━━━━━━━━━━━━━━━━━━━━━━━\u001b[0m \u001b[32m105.2/105.2 kB\u001b[0m \u001b[31m12.7 MB/s\u001b[0m eta \u001b[36m0:00:00\u001b[0m\n",
            "\u001b[?25h  Downloading google_cloud_storage-1.42.0-py2.py3-none-any.whl (105 kB)\n",
            "\u001b[2K     \u001b[90m━━━━━━━━━━━━━━━━━━━━━━━━━━━━━━━━━━━━━━━\u001b[0m \u001b[32m105.2/105.2 kB\u001b[0m \u001b[31m8.2 MB/s\u001b[0m eta \u001b[36m0:00:00\u001b[0m\n",
            "\u001b[?25h  Downloading google_cloud_storage-1.41.1-py2.py3-none-any.whl (105 kB)\n",
            "\u001b[2K     \u001b[90m━━━━━━━━━━━━━━━━━━━━━━━━━━━━━━━━━━━━━━\u001b[0m \u001b[32m105.0/105.0 kB\u001b[0m \u001b[31m12.1 MB/s\u001b[0m eta \u001b[36m0:00:00\u001b[0m\n",
            "\u001b[?25h  Downloading google_cloud_storage-1.41.0-py2.py3-none-any.whl (104 kB)\n",
            "\u001b[2K     \u001b[90m━━━━━━━━━━━━━━━━━━━━━━━━━━━━━━━━━━━━━━\u001b[0m \u001b[32m105.0/105.0 kB\u001b[0m \u001b[31m12.5 MB/s\u001b[0m eta \u001b[36m0:00:00\u001b[0m\n",
            "\u001b[?25h  Downloading google_cloud_storage-1.40.0-py2.py3-none-any.whl (104 kB)\n",
            "\u001b[2K     \u001b[90m━━━━━━━━━━━━━━━━━━━━━━━━━━━━━━━━━━━━━━\u001b[0m \u001b[32m104.2/104.2 kB\u001b[0m \u001b[31m12.8 MB/s\u001b[0m eta \u001b[36m0:00:00\u001b[0m\n",
            "\u001b[?25h  Downloading google_cloud_storage-1.39.0-py2.py3-none-any.whl (103 kB)\n",
            "\u001b[2K     \u001b[90m━━━━━━━━━━━━━━━━━━━━━━━━━━━━━━━━━━━━━━━\u001b[0m \u001b[32m103.8/103.8 kB\u001b[0m \u001b[31m7.5 MB/s\u001b[0m eta \u001b[36m0:00:00\u001b[0m\n",
            "\u001b[?25h  Downloading google_cloud_storage-1.38.0-py2.py3-none-any.whl (103 kB)\n",
            "\u001b[2K     \u001b[90m━━━━━━━━━━━━━━━━━━━━━━━━━━━━━━━━━━━━━━\u001b[0m \u001b[32m104.0/104.0 kB\u001b[0m \u001b[31m12.1 MB/s\u001b[0m eta \u001b[36m0:00:00\u001b[0m\n",
            "\u001b[?25h  Downloading google_cloud_storage-1.37.1-py2.py3-none-any.whl (103 kB)\n",
            "\u001b[2K     \u001b[90m━━━━━━━━━━━━━━━━━━━━━━━━━━━━━━━━━━━━━━━\u001b[0m \u001b[32m103.7/103.7 kB\u001b[0m \u001b[31m7.8 MB/s\u001b[0m eta \u001b[36m0:00:00\u001b[0m\n",
            "\u001b[?25h  Downloading google_cloud_storage-1.37.0-py2.py3-none-any.whl (103 kB)\n",
            "\u001b[2K     \u001b[90m━━━━━━━━━━━━━━━━━━━━━━━━━━━━━━━━━━━━━━\u001b[0m \u001b[32m103.4/103.4 kB\u001b[0m \u001b[31m12.6 MB/s\u001b[0m eta \u001b[36m0:00:00\u001b[0m\n",
            "\u001b[?25h  Downloading google_cloud_storage-1.36.2-py2.py3-none-any.whl (97 kB)\n",
            "\u001b[2K     \u001b[90m━━━━━━━━━━━━━━━━━━━━━━━━━━━━━━━━━━━━━━━━\u001b[0m \u001b[32m97.3/97.3 kB\u001b[0m \u001b[31m9.8 MB/s\u001b[0m eta \u001b[36m0:00:00\u001b[0m\n",
            "\u001b[?25h  Downloading google_cloud_storage-1.36.1-py2.py3-none-any.whl (97 kB)\n",
            "\u001b[2K     \u001b[90m━━━━━━━━━━━━━━━━━━━━━━━━━━━━━━━━━━━━━━━━\u001b[0m \u001b[32m97.2/97.2 kB\u001b[0m \u001b[31m10.3 MB/s\u001b[0m eta \u001b[36m0:00:00\u001b[0m\n",
            "\u001b[?25h  Downloading google_cloud_storage-1.36.0-py2.py3-none-any.whl (97 kB)\n",
            "\u001b[2K     \u001b[90m━━━━━━━━━━━━━━━━━━━━━━━━━━━━━━━━━━━━━━━━\u001b[0m \u001b[32m97.1/97.1 kB\u001b[0m \u001b[31m10.1 MB/s\u001b[0m eta \u001b[36m0:00:00\u001b[0m\n",
            "\u001b[?25h  Downloading google_cloud_storage-1.35.1-py2.py3-none-any.whl (96 kB)\n",
            "\u001b[2K     \u001b[90m━━━━━━━━━━━━━━━━━━━━━━━━━━━━━━━━━━━━━━━━\u001b[0m \u001b[32m96.4/96.4 kB\u001b[0m \u001b[31m7.4 MB/s\u001b[0m eta \u001b[36m0:00:00\u001b[0m\n",
            "\u001b[?25h  Downloading google_cloud_storage-1.35.0-py2.py3-none-any.whl (96 kB)\n",
            "\u001b[2K     \u001b[90m━━━━━━━━━━━━━━━━━━━━━━━━━━━━━━━━━━━━━━━━\u001b[0m \u001b[32m96.3/96.3 kB\u001b[0m \u001b[31m8.7 MB/s\u001b[0m eta \u001b[36m0:00:00\u001b[0m\n",
            "\u001b[?25h  Downloading google_cloud_storage-1.34.0-py2.py3-none-any.whl (96 kB)\n",
            "\u001b[2K     \u001b[90m━━━━━━━━━━━━━━━━━━━━━━━━━━━━━━━━━━━━━━━━\u001b[0m \u001b[32m96.3/96.3 kB\u001b[0m \u001b[31m10.2 MB/s\u001b[0m eta \u001b[36m0:00:00\u001b[0m\n",
            "\u001b[?25h  Downloading google_cloud_storage-1.33.0-py2.py3-none-any.whl (92 kB)\n",
            "\u001b[2K     \u001b[90m━━━━━━━━━━━━━━━━━━━━━━━━━━━━━━━━━━━━━━━━\u001b[0m \u001b[32m92.1/92.1 kB\u001b[0m \u001b[31m10.3 MB/s\u001b[0m eta \u001b[36m0:00:00\u001b[0m\n",
            "\u001b[?25h  Downloading google_cloud_storage-1.32.0-py2.py3-none-any.whl (92 kB)\n",
            "\u001b[2K     \u001b[90m━━━━━━━━━━━━━━━━━━━━━━━━━━━━━━━━━━━━━━━━\u001b[0m \u001b[32m92.1/92.1 kB\u001b[0m \u001b[31m11.1 MB/s\u001b[0m eta \u001b[36m0:00:00\u001b[0m\n",
            "\u001b[?25hINFO: pip is looking at multiple versions of google-cloud-bigquery to determine which version is compatible with other requirements. This could take a while.\n",
            "Collecting google-cloud-bigquery<3.0.0dev,>=1.15.0\n",
            "  Downloading google_cloud_bigquery-2.34.4-py2.py3-none-any.whl (206 kB)\n",
            "\u001b[2K     \u001b[90m━━━━━━━━━━━━━━━━━━━━━━━━━━━━━━━━━━━━━━\u001b[0m \u001b[32m206.6/206.6 kB\u001b[0m \u001b[31m21.1 MB/s\u001b[0m eta \u001b[36m0:00:00\u001b[0m\n",
            "\u001b[?25hRequirement already satisfied: python-dateutil<3.0dev,>=2.7.2 in /usr/local/lib/python3.7/dist-packages (from google-cloud-bigquery<3.0.0dev,>=1.15.0->google-cloud-aiplatform==1.3.0) (2.8.2)\n",
            "Collecting google-cloud-core<3.0.0dev,>=1.4.1\n",
            "  Downloading google_cloud_core-2.3.1-py2.py3-none-any.whl (29 kB)\n",
            "Collecting google-resumable-media<3.0dev,>=0.6.0\n",
            "  Downloading google_resumable_media-2.3.3-py2.py3-none-any.whl (76 kB)\n",
            "\u001b[2K     \u001b[90m━━━━━━━━━━━━━━━━━━━━━━━━━━━━━━━━━━━━━━━━\u001b[0m \u001b[32m76.9/76.9 kB\u001b[0m \u001b[31m9.1 MB/s\u001b[0m eta \u001b[36m0:00:00\u001b[0m\n",
            "\u001b[?25hCollecting google-crc32c<2.0dev,>=1.0\n",
            "  Downloading google_crc32c-1.3.0-cp37-cp37m-manylinux_2_12_x86_64.manylinux2010_x86_64.whl (38 kB)\n",
            "Requirement already satisfied: pyparsing!=3.0.5,>=2.0.2 in /usr/local/lib/python3.7/dist-packages (from packaging>=14.3->google-cloud-aiplatform==1.3.0) (3.0.9)\n",
            "Collecting protobuf<4.0.0dev,>=3.12.0\n",
            "  Downloading protobuf-3.20.1-cp37-cp37m-manylinux_2_5_x86_64.manylinux1_x86_64.whl (1.0 MB)\n",
            "\u001b[2K     \u001b[90m━━━━━━━━━━━━━━━━━━━━━━━━━━━━━━━━━━━━━━━━\u001b[0m \u001b[32m1.0/1.0 MB\u001b[0m \u001b[31m9.6 MB/s\u001b[0m eta \u001b[36m0:00:00\u001b[0m\n",
            "\u001b[?25hRequirement already satisfied: pyasn1-modules>=0.2.1 in /usr/local/lib/python3.7/dist-packages (from google-auth<2.0dev,>=1.25.0->google-api-core[grpc]<3.0.0dev,>=1.26.0->google-cloud-aiplatform==1.3.0) (0.2.8)\n",
            "Requirement already satisfied: cachetools<5.0,>=2.0.0 in /usr/local/lib/python3.7/dist-packages (from google-auth<2.0dev,>=1.25.0->google-api-core[grpc]<3.0.0dev,>=1.26.0->google-cloud-aiplatform==1.3.0) (4.2.4)\n",
            "Requirement already satisfied: rsa<5,>=3.1.4 in /usr/local/lib/python3.7/dist-packages (from google-auth<2.0dev,>=1.25.0->google-api-core[grpc]<3.0.0dev,>=1.26.0->google-cloud-aiplatform==1.3.0) (4.8)\n",
            "Requirement already satisfied: urllib3!=1.25.0,!=1.25.1,<1.26,>=1.21.1 in /usr/local/lib/python3.7/dist-packages (from requests<3.0.0dev,>=2.18.0->google-api-core[grpc]<3.0.0dev,>=1.26.0->google-cloud-aiplatform==1.3.0) (1.24.3)\n",
            "Requirement already satisfied: certifi>=2017.4.17 in /usr/local/lib/python3.7/dist-packages (from requests<3.0.0dev,>=2.18.0->google-api-core[grpc]<3.0.0dev,>=1.26.0->google-cloud-aiplatform==1.3.0) (2022.6.15)\n",
            "Requirement already satisfied: chardet<4,>=3.0.2 in /usr/local/lib/python3.7/dist-packages (from requests<3.0.0dev,>=2.18.0->google-api-core[grpc]<3.0.0dev,>=1.26.0->google-cloud-aiplatform==1.3.0) (3.0.4)\n",
            "Requirement already satisfied: idna<3,>=2.5 in /usr/local/lib/python3.7/dist-packages (from requests<3.0.0dev,>=2.18.0->google-api-core[grpc]<3.0.0dev,>=1.26.0->google-cloud-aiplatform==1.3.0) (2.10)\n",
            "Requirement already satisfied: pyasn1<0.5.0,>=0.4.6 in /usr/local/lib/python3.7/dist-packages (from pyasn1-modules>=0.2.1->google-auth<2.0dev,>=1.25.0->google-api-core[grpc]<3.0.0dev,>=1.26.0->google-cloud-aiplatform==1.3.0) (0.4.8)\n",
            "Installing collected packages: protobuf, google-crc32c, proto-plus, google-resumable-media, google-cloud-core, google-cloud-storage, google-cloud-bigquery, google-cloud-aiplatform\n",
            "\u001b[33m  WARNING: The script tb-gcp-uploader is installed in '/root/.local/bin' which is not on PATH.\n",
            "  Consider adding this directory to PATH or, if you prefer to suppress this warning, use --no-warn-script-location.\u001b[0m\u001b[33m\n",
            "\u001b[0m\u001b[31mERROR: pip's dependency resolver does not currently take into account all the packages that are installed. This behaviour is the source of the following dependency conflicts.\n",
            "tensorflow 2.8.2+zzzcolab20220527125636 requires protobuf<3.20,>=3.9.2, but you have protobuf 3.20.1 which is incompatible.\n",
            "pandas-gbq 0.13.3 requires google-cloud-bigquery[bqstorage,pandas]<2.0.0dev,>=1.11.1, but you have google-cloud-bigquery 2.34.4 which is incompatible.\n",
            "google-cloud-translate 1.5.0 requires google-cloud-core<2.0dev,>=1.0.0, but you have google-cloud-core 2.3.1 which is incompatible.\n",
            "google-cloud-firestore 1.7.0 requires google-cloud-core<2.0dev,>=1.0.3, but you have google-cloud-core 2.3.1 which is incompatible.\n",
            "google-cloud-datastore 1.8.0 requires google-cloud-core<2.0dev,>=1.0.0, but you have google-cloud-core 2.3.1 which is incompatible.\u001b[0m\u001b[31m\n",
            "\u001b[0mSuccessfully installed google-cloud-aiplatform-1.3.0 google-cloud-bigquery-2.34.4 google-cloud-core-2.3.1 google-cloud-storage-1.44.0 google-crc32c-1.3.0 google-resumable-media-2.3.3 proto-plus-1.20.6 protobuf-3.20.1\n",
            "\u001b[33mWARNING: Running pip as the 'root' user can result in broken permissions and conflicting behaviour with the system package manager. It is recommended to use a virtual environment instead: https://pip.pypa.io/warnings/venv\u001b[0m\u001b[33m\n",
            "\u001b[0mLooking in indexes: https://pypi.org/simple, https://us-python.pkg.dev/colab-wheels/public/simple/\n",
            "Collecting kfp\n",
            "  Downloading kfp-1.8.12.tar.gz (301 kB)\n",
            "\u001b[2K     \u001b[90m━━━━━━━━━━━━━━━━━━━━━━━━━━━━━━━━━━━━━━━\u001b[0m \u001b[32m301.2/301.2 kB\u001b[0m \u001b[31m7.4 MB/s\u001b[0m eta \u001b[36m0:00:00\u001b[0m\n",
            "\u001b[?25h  Preparing metadata (setup.py) ... \u001b[?25l\u001b[?25hdone\n",
            "Requirement already satisfied: absl-py<2,>=0.9 in /usr/local/lib/python3.7/dist-packages (from kfp) (1.1.0)\n",
            "Collecting PyYAML<6,>=5.3\n",
            "  Downloading PyYAML-5.4.1-cp37-cp37m-manylinux1_x86_64.whl (636 kB)\n",
            "\u001b[2K     \u001b[90m━━━━━━━━━━━━━━━━━━━━━━━━━━━━━━━━━━━━━━\u001b[0m \u001b[32m636.6/636.6 kB\u001b[0m \u001b[31m35.8 MB/s\u001b[0m eta \u001b[36m0:00:00\u001b[0m\n",
            "\u001b[?25hRequirement already satisfied: google-api-core!=2.0.*,!=2.1.*,!=2.2.*,!=2.3.0,<3.0.0dev,>=1.31.5 in /usr/local/lib/python3.7/dist-packages (from kfp) (1.31.6)\n",
            "Requirement already satisfied: google-cloud-storage<2,>=1.20.0 in /root/.local/lib/python3.7/site-packages (from kfp) (1.44.0)\n",
            "Collecting kubernetes<19,>=8.0.0\n",
            "  Downloading kubernetes-18.20.0-py2.py3-none-any.whl (1.6 MB)\n",
            "\u001b[2K     \u001b[90m━━━━━━━━━━━━━━━━━━━━━━━━━━━━━━━━━━━━━━━━\u001b[0m \u001b[32m1.6/1.6 MB\u001b[0m \u001b[31m50.5 MB/s\u001b[0m eta \u001b[36m0:00:00\u001b[0m\n",
            "\u001b[?25hRequirement already satisfied: google-api-python-client<2,>=1.7.8 in /usr/local/lib/python3.7/dist-packages (from kfp) (1.12.11)\n",
            "Requirement already satisfied: google-auth<2,>=1.6.1 in /usr/local/lib/python3.7/dist-packages (from kfp) (1.35.0)\n",
            "Collecting requests-toolbelt<1,>=0.8.0\n",
            "  Downloading requests_toolbelt-0.9.1-py2.py3-none-any.whl (54 kB)\n",
            "\u001b[2K     \u001b[90m━━━━━━━━━━━━━━━━━━━━━━━━━━━━━━━━━━━━━━━━\u001b[0m \u001b[32m54.3/54.3 kB\u001b[0m \u001b[31m4.9 MB/s\u001b[0m eta \u001b[36m0:00:00\u001b[0m\n",
            "\u001b[?25hCollecting cloudpickle<3,>=2.0.0\n",
            "  Downloading cloudpickle-2.1.0-py3-none-any.whl (25 kB)\n",
            "Collecting kfp-server-api<2.0.0,>=1.1.2\n",
            "  Downloading kfp-server-api-1.8.2.tar.gz (57 kB)\n",
            "\u001b[2K     \u001b[90m━━━━━━━━━━━━━━━━━━━━━━━━━━━━━━━━━━━━━━━━\u001b[0m \u001b[32m58.0/58.0 kB\u001b[0m \u001b[31m7.6 MB/s\u001b[0m eta \u001b[36m0:00:00\u001b[0m\n",
            "\u001b[?25h  Preparing metadata (setup.py) ... \u001b[?25l\u001b[?25hdone\n",
            "Collecting jsonschema<4,>=3.0.1\n",
            "  Downloading jsonschema-3.2.0-py2.py3-none-any.whl (56 kB)\n",
            "\u001b[2K     \u001b[90m━━━━━━━━━━━━━━━━━━━━━━━━━━━━━━━━━━━━━━━━\u001b[0m \u001b[32m56.3/56.3 kB\u001b[0m \u001b[31m6.9 MB/s\u001b[0m eta \u001b[36m0:00:00\u001b[0m\n",
            "\u001b[?25hRequirement already satisfied: tabulate<1,>=0.8.6 in /usr/local/lib/python3.7/dist-packages (from kfp) (0.8.9)\n",
            "Requirement already satisfied: click<9,>=7.1.2 in /usr/local/lib/python3.7/dist-packages (from kfp) (7.1.2)\n",
            "Collecting Deprecated<2,>=1.2.7\n",
            "  Downloading Deprecated-1.2.13-py2.py3-none-any.whl (9.6 kB)\n",
            "Collecting strip-hints<1,>=0.1.8\n",
            "  Downloading strip-hints-0.1.10.tar.gz (29 kB)\n",
            "  Preparing metadata (setup.py) ... \u001b[?25l\u001b[?25hdone\n",
            "Collecting docstring-parser<1,>=0.7.3\n",
            "  Downloading docstring_parser-0.14.1-py3-none-any.whl (33 kB)\n",
            "Collecting kfp-pipeline-spec<0.2.0,>=0.1.14\n",
            "  Downloading kfp_pipeline_spec-0.1.16-py3-none-any.whl (19 kB)\n",
            "Collecting fire<1,>=0.3.1\n",
            "  Downloading fire-0.4.0.tar.gz (87 kB)\n",
            "\u001b[2K     \u001b[90m━━━━━━━━━━━━━━━━━━━━━━━━━━━━━━━━━━━━━━━━\u001b[0m \u001b[32m87.7/87.7 kB\u001b[0m \u001b[31m10.6 MB/s\u001b[0m eta \u001b[36m0:00:00\u001b[0m\n",
            "\u001b[?25h  Preparing metadata (setup.py) ... \u001b[?25l\u001b[?25hdone\n",
            "Requirement already satisfied: protobuf<4,>=3.13.0 in /root/.local/lib/python3.7/site-packages (from kfp) (3.20.1)\n",
            "Requirement already satisfied: uritemplate<4,>=3.0.1 in /usr/local/lib/python3.7/dist-packages (from kfp) (3.0.1)\n",
            "Requirement already satisfied: pydantic<2,>=1.8.2 in /usr/local/lib/python3.7/dist-packages (from kfp) (1.8.2)\n",
            "Requirement already satisfied: typer<1.0,>=0.3.2 in /usr/local/lib/python3.7/dist-packages (from kfp) (0.4.1)\n",
            "Collecting typing-extensions<4,>=3.7.4\n",
            "  Downloading typing_extensions-3.10.0.2-py3-none-any.whl (26 kB)\n",
            "Requirement already satisfied: wrapt<2,>=1.10 in /usr/local/lib/python3.7/dist-packages (from Deprecated<2,>=1.2.7->kfp) (1.14.1)\n",
            "Requirement already satisfied: six in /usr/local/lib/python3.7/dist-packages (from fire<1,>=0.3.1->kfp) (1.15.0)\n",
            "Requirement already satisfied: termcolor in /usr/local/lib/python3.7/dist-packages (from fire<1,>=0.3.1->kfp) (1.1.0)\n",
            "Requirement already satisfied: setuptools>=40.3.0 in /usr/local/lib/python3.7/dist-packages (from google-api-core!=2.0.*,!=2.1.*,!=2.2.*,!=2.3.0,<3.0.0dev,>=1.31.5->kfp) (57.4.0)\n",
            "Requirement already satisfied: requests<3.0.0dev,>=2.18.0 in /usr/local/lib/python3.7/dist-packages (from google-api-core!=2.0.*,!=2.1.*,!=2.2.*,!=2.3.0,<3.0.0dev,>=1.31.5->kfp) (2.23.0)\n",
            "Requirement already satisfied: pytz in /usr/local/lib/python3.7/dist-packages (from google-api-core!=2.0.*,!=2.1.*,!=2.2.*,!=2.3.0,<3.0.0dev,>=1.31.5->kfp) (2022.1)\n",
            "Requirement already satisfied: googleapis-common-protos<2.0dev,>=1.6.0 in /usr/local/lib/python3.7/dist-packages (from google-api-core!=2.0.*,!=2.1.*,!=2.2.*,!=2.3.0,<3.0.0dev,>=1.31.5->kfp) (1.56.2)\n",
            "Requirement already satisfied: packaging>=14.3 in /usr/local/lib/python3.7/dist-packages (from google-api-core!=2.0.*,!=2.1.*,!=2.2.*,!=2.3.0,<3.0.0dev,>=1.31.5->kfp) (21.3)\n",
            "Requirement already satisfied: httplib2<1dev,>=0.15.0 in /usr/local/lib/python3.7/dist-packages (from google-api-python-client<2,>=1.7.8->kfp) (0.17.4)\n",
            "Requirement already satisfied: google-auth-httplib2>=0.0.3 in /usr/local/lib/python3.7/dist-packages (from google-api-python-client<2,>=1.7.8->kfp) (0.0.4)\n",
            "Requirement already satisfied: pyasn1-modules>=0.2.1 in /usr/local/lib/python3.7/dist-packages (from google-auth<2,>=1.6.1->kfp) (0.2.8)\n",
            "Requirement already satisfied: rsa<5,>=3.1.4 in /usr/local/lib/python3.7/dist-packages (from google-auth<2,>=1.6.1->kfp) (4.8)\n",
            "Requirement already satisfied: cachetools<5.0,>=2.0.0 in /usr/local/lib/python3.7/dist-packages (from google-auth<2,>=1.6.1->kfp) (4.2.4)\n",
            "Requirement already satisfied: google-resumable-media<3.0dev,>=1.3.0 in /root/.local/lib/python3.7/site-packages (from google-cloud-storage<2,>=1.20.0->kfp) (2.3.3)\n",
            "Requirement already satisfied: google-cloud-core<3.0dev,>=1.6.0 in /root/.local/lib/python3.7/site-packages (from google-cloud-storage<2,>=1.20.0->kfp) (2.3.1)\n",
            "Requirement already satisfied: attrs>=17.4.0 in /usr/local/lib/python3.7/dist-packages (from jsonschema<4,>=3.0.1->kfp) (21.4.0)\n",
            "Requirement already satisfied: importlib-metadata in /usr/local/lib/python3.7/dist-packages (from jsonschema<4,>=3.0.1->kfp) (4.11.4)\n",
            "Requirement already satisfied: pyrsistent>=0.14.0 in /usr/local/lib/python3.7/dist-packages (from jsonschema<4,>=3.0.1->kfp) (0.18.1)\n",
            "Requirement already satisfied: urllib3>=1.15 in /usr/local/lib/python3.7/dist-packages (from kfp-server-api<2.0.0,>=1.1.2->kfp) (1.24.3)\n",
            "Requirement already satisfied: certifi in /usr/local/lib/python3.7/dist-packages (from kfp-server-api<2.0.0,>=1.1.2->kfp) (2022.6.15)\n",
            "Requirement already satisfied: python-dateutil in /usr/local/lib/python3.7/dist-packages (from kfp-server-api<2.0.0,>=1.1.2->kfp) (2.8.2)\n",
            "Requirement already satisfied: requests-oauthlib in /usr/local/lib/python3.7/dist-packages (from kubernetes<19,>=8.0.0->kfp) (1.3.1)\n",
            "Collecting websocket-client!=0.40.0,!=0.41.*,!=0.42.*,>=0.32.0\n",
            "  Downloading websocket_client-1.3.3-py3-none-any.whl (54 kB)\n",
            "\u001b[2K     \u001b[90m━━━━━━━━━━━━━━━━━━━━━━━━━━━━━━━━━━━━━━━━\u001b[0m \u001b[32m54.3/54.3 kB\u001b[0m \u001b[31m7.2 MB/s\u001b[0m eta \u001b[36m0:00:00\u001b[0m\n",
            "\u001b[?25hRequirement already satisfied: wheel in /usr/local/lib/python3.7/dist-packages (from strip-hints<1,>=0.1.8->kfp) (0.37.1)\n",
            "Requirement already satisfied: google-crc32c<2.0dev,>=1.0 in /root/.local/lib/python3.7/site-packages (from google-resumable-media<3.0dev,>=1.3.0->google-cloud-storage<2,>=1.20.0->kfp) (1.3.0)\n",
            "Requirement already satisfied: pyparsing!=3.0.5,>=2.0.2 in /usr/local/lib/python3.7/dist-packages (from packaging>=14.3->google-api-core!=2.0.*,!=2.1.*,!=2.2.*,!=2.3.0,<3.0.0dev,>=1.31.5->kfp) (3.0.9)\n",
            "Requirement already satisfied: pyasn1<0.5.0,>=0.4.6 in /usr/local/lib/python3.7/dist-packages (from pyasn1-modules>=0.2.1->google-auth<2,>=1.6.1->kfp) (0.4.8)\n",
            "Requirement already satisfied: idna<3,>=2.5 in /usr/local/lib/python3.7/dist-packages (from requests<3.0.0dev,>=2.18.0->google-api-core!=2.0.*,!=2.1.*,!=2.2.*,!=2.3.0,<3.0.0dev,>=1.31.5->kfp) (2.10)\n",
            "Requirement already satisfied: chardet<4,>=3.0.2 in /usr/local/lib/python3.7/dist-packages (from requests<3.0.0dev,>=2.18.0->google-api-core!=2.0.*,!=2.1.*,!=2.2.*,!=2.3.0,<3.0.0dev,>=1.31.5->kfp) (3.0.4)\n",
            "Requirement already satisfied: zipp>=0.5 in /usr/local/lib/python3.7/dist-packages (from importlib-metadata->jsonschema<4,>=3.0.1->kfp) (3.8.0)\n",
            "Requirement already satisfied: oauthlib>=3.0.0 in /usr/local/lib/python3.7/dist-packages (from requests-oauthlib->kubernetes<19,>=8.0.0->kfp) (3.2.0)\n",
            "Building wheels for collected packages: kfp, fire, kfp-server-api, strip-hints\n",
            "  Building wheel for kfp (setup.py) ... \u001b[?25l\u001b[?25hdone\n",
            "  Created wheel for kfp: filename=kfp-1.8.12-py3-none-any.whl size=419048 sha256=2e4e26441e2cd1d29f7881d317ca10f05884e3c25ff11a861ad0ce12b4184fd8\n",
            "  Stored in directory: /root/.cache/pip/wheels/54/0c/4a/3fc55077bc88cc17eacaae34c5fd3f6178c1d16d2ee3b0afdf\n",
            "  Building wheel for fire (setup.py) ... \u001b[?25l\u001b[?25hdone\n",
            "  Created wheel for fire: filename=fire-0.4.0-py2.py3-none-any.whl size=115942 sha256=43ab850c6820a06de9669d5caee9329759f3ec3b11651d04208464051d9a7d65\n",
            "  Stored in directory: /root/.cache/pip/wheels/8a/67/fb/2e8a12fa16661b9d5af1f654bd199366799740a85c64981226\n",
            "  Building wheel for kfp-server-api (setup.py) ... \u001b[?25l\u001b[?25hdone\n",
            "  Created wheel for kfp-server-api: filename=kfp_server_api-1.8.2-py3-none-any.whl size=99716 sha256=85830a9edab1afcf0d6e547e4db8796d5b7a9f57f8bd6a93888bdfffa2fa277f\n",
            "  Stored in directory: /root/.cache/pip/wheels/77/36/d3/60e33cc9e15f269fe0e0f71cae6d077a5e43973d514b60b4ad\n",
            "  Building wheel for strip-hints (setup.py) ... \u001b[?25l\u001b[?25hdone\n",
            "  Created wheel for strip-hints: filename=strip_hints-0.1.10-py2.py3-none-any.whl size=22302 sha256=c462e1ff826acbdf02c39a9b821689230e9c3a36c8925910dd68e7a94059749e\n",
            "  Stored in directory: /root/.cache/pip/wheels/5e/14/c3/6e44e9b2545f2d570b03f5b6d38c00b7534aa8abb376978363\n",
            "Successfully built kfp fire kfp-server-api strip-hints\n",
            "Installing collected packages: typing-extensions, websocket-client, strip-hints, PyYAML, kfp-pipeline-spec, fire, docstring-parser, Deprecated, cloudpickle, requests-toolbelt, kfp-server-api, jsonschema, kubernetes, kfp\n",
            "\u001b[33m  WARNING: The script wsdump is installed in '/root/.local/bin' which is not on PATH.\n",
            "  Consider adding this directory to PATH or, if you prefer to suppress this warning, use --no-warn-script-location.\u001b[0m\u001b[33m\n",
            "\u001b[0m\u001b[33m  WARNING: The script strip-hints is installed in '/root/.local/bin' which is not on PATH.\n",
            "  Consider adding this directory to PATH or, if you prefer to suppress this warning, use --no-warn-script-location.\u001b[0m\u001b[33m\n",
            "\u001b[0m\u001b[33m  WARNING: The script jsonschema is installed in '/root/.local/bin' which is not on PATH.\n",
            "  Consider adding this directory to PATH or, if you prefer to suppress this warning, use --no-warn-script-location.\u001b[0m\u001b[33m\n",
            "\u001b[0m\u001b[33m  WARNING: The scripts dsl-compile, dsl-compile-v2 and kfp are installed in '/root/.local/bin' which is not on PATH.\n",
            "  Consider adding this directory to PATH or, if you prefer to suppress this warning, use --no-warn-script-location.\u001b[0m\u001b[33m\n",
            "\u001b[0m\u001b[31mERROR: pip's dependency resolver does not currently take into account all the packages that are installed. This behaviour is the source of the following dependency conflicts.\n",
            "tensorflow 2.8.2+zzzcolab20220527125636 requires protobuf<3.20,>=3.9.2, but you have protobuf 3.20.1 which is incompatible.\n",
            "nbclient 0.6.4 requires jupyter-client>=6.1.5, but you have jupyter-client 5.3.5 which is incompatible.\n",
            "nbclient 0.6.4 requires traitlets>=5.2.2, but you have traitlets 5.1.1 which is incompatible.\n",
            "gym 0.17.3 requires cloudpickle<1.7.0,>=1.2.0, but you have cloudpickle 2.1.0 which is incompatible.\u001b[0m\u001b[31m\n",
            "\u001b[0mSuccessfully installed Deprecated-1.2.13 PyYAML-5.4.1 cloudpickle-2.1.0 docstring-parser-0.14.1 fire-0.4.0 jsonschema-3.2.0 kfp-1.8.12 kfp-pipeline-spec-0.1.16 kfp-server-api-1.8.2 kubernetes-18.20.0 requests-toolbelt-0.9.1 strip-hints-0.1.10 typing-extensions-3.10.0.2 websocket-client-1.3.3\n",
            "\u001b[33mWARNING: Running pip as the 'root' user can result in broken permissions and conflicting behaviour with the system package manager. It is recommended to use a virtual environment instead: https://pip.pypa.io/warnings/venv\u001b[0m\u001b[33m\n",
            "\u001b[0mLooking in indexes: https://pypi.org/simple, https://us-python.pkg.dev/colab-wheels/public/simple/\n",
            "Collecting google_cloud_pipeline_components\n",
            "  Downloading google_cloud_pipeline_components-1.0.13-py3-none-any.whl (600 kB)\n",
            "\u001b[2K     \u001b[90m━━━━━━━━━━━━━━━━━━━━━━━━━━━━━━━━━━━━━━\u001b[0m \u001b[32m600.0/600.0 kB\u001b[0m \u001b[31m15.5 MB/s\u001b[0m eta \u001b[36m0:00:00\u001b[0m\n",
            "\u001b[?25hRequirement already satisfied: google-api-core!=2.0.*,!=2.1.*,!=2.2.*,!=2.3.0,<3.0.0dev,>=1.31.5 in /usr/local/lib/python3.7/dist-packages (from google_cloud_pipeline_components) (1.31.6)\n",
            "Collecting google-cloud-notebooks>=0.4.0\n",
            "  Downloading google_cloud_notebooks-1.3.2-py2.py3-none-any.whl (354 kB)\n",
            "\u001b[2K     \u001b[90m━━━━━━━━━━━━━━━━━━━━━━━━━━━━━━━━━━━━━━\u001b[0m \u001b[32m354.1/354.1 kB\u001b[0m \u001b[31m34.3 MB/s\u001b[0m eta \u001b[36m0:00:00\u001b[0m\n",
            "\u001b[?25hRequirement already satisfied: google-cloud-storage<2,>=1.20.0 in /root/.local/lib/python3.7/site-packages (from google_cloud_pipeline_components) (1.44.0)\n",
            "Requirement already satisfied: kfp<2.0.0,>=1.8.9 in /root/.local/lib/python3.7/site-packages (from google_cloud_pipeline_components) (1.8.12)\n",
            "Collecting google-cloud-aiplatform<2,>=1.11.0\n",
            "  Downloading google_cloud_aiplatform-1.15.0-py2.py3-none-any.whl (2.1 MB)\n",
            "\u001b[2K     \u001b[90m━━━━━━━━━━━━━━━━━━━━━━━━━━━━━━━━━━━━━━━━\u001b[0m \u001b[32m2.1/2.1 MB\u001b[0m \u001b[31m57.5 MB/s\u001b[0m eta \u001b[36m0:00:00\u001b[0m\n",
            "\u001b[?25hRequirement already satisfied: six>=1.13.0 in /usr/local/lib/python3.7/dist-packages (from google-api-core!=2.0.*,!=2.1.*,!=2.2.*,!=2.3.0,<3.0.0dev,>=1.31.5->google_cloud_pipeline_components) (1.15.0)\n",
            "Requirement already satisfied: requests<3.0.0dev,>=2.18.0 in /usr/local/lib/python3.7/dist-packages (from google-api-core!=2.0.*,!=2.1.*,!=2.2.*,!=2.3.0,<3.0.0dev,>=1.31.5->google_cloud_pipeline_components) (2.23.0)\n",
            "Requirement already satisfied: protobuf<4.0.0dev,>=3.12.0 in /root/.local/lib/python3.7/site-packages (from google-api-core!=2.0.*,!=2.1.*,!=2.2.*,!=2.3.0,<3.0.0dev,>=1.31.5->google_cloud_pipeline_components) (3.20.1)\n",
            "Requirement already satisfied: pytz in /usr/local/lib/python3.7/dist-packages (from google-api-core!=2.0.*,!=2.1.*,!=2.2.*,!=2.3.0,<3.0.0dev,>=1.31.5->google_cloud_pipeline_components) (2022.1)\n",
            "Requirement already satisfied: google-auth<2.0dev,>=1.25.0 in /usr/local/lib/python3.7/dist-packages (from google-api-core!=2.0.*,!=2.1.*,!=2.2.*,!=2.3.0,<3.0.0dev,>=1.31.5->google_cloud_pipeline_components) (1.35.0)\n",
            "Requirement already satisfied: googleapis-common-protos<2.0dev,>=1.6.0 in /usr/local/lib/python3.7/dist-packages (from google-api-core!=2.0.*,!=2.1.*,!=2.2.*,!=2.3.0,<3.0.0dev,>=1.31.5->google_cloud_pipeline_components) (1.56.2)\n",
            "Requirement already satisfied: setuptools>=40.3.0 in /usr/local/lib/python3.7/dist-packages (from google-api-core!=2.0.*,!=2.1.*,!=2.2.*,!=2.3.0,<3.0.0dev,>=1.31.5->google_cloud_pipeline_components) (57.4.0)\n",
            "Requirement already satisfied: packaging>=14.3 in /usr/local/lib/python3.7/dist-packages (from google-api-core!=2.0.*,!=2.1.*,!=2.2.*,!=2.3.0,<3.0.0dev,>=1.31.5->google_cloud_pipeline_components) (21.3)\n",
            "Requirement already satisfied: proto-plus<2.0.0dev,>=1.15.0 in /root/.local/lib/python3.7/site-packages (from google-cloud-aiplatform<2,>=1.11.0->google_cloud_pipeline_components) (1.20.6)\n",
            "Collecting google-cloud-resource-manager<3.0.0dev,>=1.3.3\n",
            "  Downloading google_cloud_resource_manager-1.5.1-py2.py3-none-any.whl (230 kB)\n",
            "\u001b[2K     \u001b[90m━━━━━━━━━━━━━━━━━━━━━━━━━━━━━━━━━━━━━━\u001b[0m \u001b[32m230.2/230.2 kB\u001b[0m \u001b[31m28.1 MB/s\u001b[0m eta \u001b[36m0:00:00\u001b[0m\n",
            "\u001b[?25hRequirement already satisfied: google-cloud-bigquery<3.0.0dev,>=1.15.0 in /root/.local/lib/python3.7/site-packages (from google-cloud-aiplatform<2,>=1.11.0->google_cloud_pipeline_components) (2.34.4)\n",
            "Requirement already satisfied: google-resumable-media<3.0dev,>=1.3.0 in /root/.local/lib/python3.7/site-packages (from google-cloud-storage<2,>=1.20.0->google_cloud_pipeline_components) (2.3.3)\n",
            "Requirement already satisfied: google-cloud-core<3.0dev,>=1.6.0 in /root/.local/lib/python3.7/site-packages (from google-cloud-storage<2,>=1.20.0->google_cloud_pipeline_components) (2.3.1)\n",
            "Requirement already satisfied: cloudpickle<3,>=2.0.0 in /root/.local/lib/python3.7/site-packages (from kfp<2.0.0,>=1.8.9->google_cloud_pipeline_components) (2.1.0)\n",
            "Requirement already satisfied: fire<1,>=0.3.1 in /root/.local/lib/python3.7/site-packages (from kfp<2.0.0,>=1.8.9->google_cloud_pipeline_components) (0.4.0)\n",
            "Requirement already satisfied: google-api-python-client<2,>=1.7.8 in /usr/local/lib/python3.7/dist-packages (from kfp<2.0.0,>=1.8.9->google_cloud_pipeline_components) (1.12.11)\n",
            "Requirement already satisfied: Deprecated<2,>=1.2.7 in /root/.local/lib/python3.7/site-packages (from kfp<2.0.0,>=1.8.9->google_cloud_pipeline_components) (1.2.13)\n",
            "Requirement already satisfied: PyYAML<6,>=5.3 in /root/.local/lib/python3.7/site-packages (from kfp<2.0.0,>=1.8.9->google_cloud_pipeline_components) (5.4.1)\n",
            "Requirement already satisfied: kfp-server-api<2.0.0,>=1.1.2 in /root/.local/lib/python3.7/site-packages (from kfp<2.0.0,>=1.8.9->google_cloud_pipeline_components) (1.8.2)\n",
            "Requirement already satisfied: click<9,>=7.1.2 in /usr/local/lib/python3.7/dist-packages (from kfp<2.0.0,>=1.8.9->google_cloud_pipeline_components) (7.1.2)\n",
            "Requirement already satisfied: docstring-parser<1,>=0.7.3 in /root/.local/lib/python3.7/site-packages (from kfp<2.0.0,>=1.8.9->google_cloud_pipeline_components) (0.14.1)\n",
            "Requirement already satisfied: absl-py<2,>=0.9 in /usr/local/lib/python3.7/dist-packages (from kfp<2.0.0,>=1.8.9->google_cloud_pipeline_components) (1.1.0)\n",
            "Requirement already satisfied: pydantic<2,>=1.8.2 in /usr/local/lib/python3.7/dist-packages (from kfp<2.0.0,>=1.8.9->google_cloud_pipeline_components) (1.8.2)\n",
            "Requirement already satisfied: typer<1.0,>=0.3.2 in /usr/local/lib/python3.7/dist-packages (from kfp<2.0.0,>=1.8.9->google_cloud_pipeline_components) (0.4.1)\n",
            "Requirement already satisfied: strip-hints<1,>=0.1.8 in /root/.local/lib/python3.7/site-packages (from kfp<2.0.0,>=1.8.9->google_cloud_pipeline_components) (0.1.10)\n",
            "Requirement already satisfied: tabulate<1,>=0.8.6 in /usr/local/lib/python3.7/dist-packages (from kfp<2.0.0,>=1.8.9->google_cloud_pipeline_components) (0.8.9)\n",
            "Requirement already satisfied: uritemplate<4,>=3.0.1 in /usr/local/lib/python3.7/dist-packages (from kfp<2.0.0,>=1.8.9->google_cloud_pipeline_components) (3.0.1)\n",
            "Requirement already satisfied: typing-extensions<4,>=3.7.4 in /root/.local/lib/python3.7/site-packages (from kfp<2.0.0,>=1.8.9->google_cloud_pipeline_components) (3.10.0.2)\n",
            "Requirement already satisfied: jsonschema<4,>=3.0.1 in /root/.local/lib/python3.7/site-packages (from kfp<2.0.0,>=1.8.9->google_cloud_pipeline_components) (3.2.0)\n",
            "Requirement already satisfied: requests-toolbelt<1,>=0.8.0 in /root/.local/lib/python3.7/site-packages (from kfp<2.0.0,>=1.8.9->google_cloud_pipeline_components) (0.9.1)\n",
            "Requirement already satisfied: kubernetes<19,>=8.0.0 in /root/.local/lib/python3.7/site-packages (from kfp<2.0.0,>=1.8.9->google_cloud_pipeline_components) (18.20.0)\n",
            "Requirement already satisfied: kfp-pipeline-spec<0.2.0,>=0.1.14 in /root/.local/lib/python3.7/site-packages (from kfp<2.0.0,>=1.8.9->google_cloud_pipeline_components) (0.1.16)\n",
            "Requirement already satisfied: wrapt<2,>=1.10 in /usr/local/lib/python3.7/dist-packages (from Deprecated<2,>=1.2.7->kfp<2.0.0,>=1.8.9->google_cloud_pipeline_components) (1.14.1)\n",
            "Requirement already satisfied: termcolor in /usr/local/lib/python3.7/dist-packages (from fire<1,>=0.3.1->kfp<2.0.0,>=1.8.9->google_cloud_pipeline_components) (1.1.0)\n",
            "Requirement already satisfied: grpcio<2.0dev,>=1.29.0 in /usr/local/lib/python3.7/dist-packages (from google-api-core!=2.0.*,!=2.1.*,!=2.2.*,!=2.3.0,<3.0.0dev,>=1.31.5->google_cloud_pipeline_components) (1.46.3)\n",
            "Requirement already satisfied: httplib2<1dev,>=0.15.0 in /usr/local/lib/python3.7/dist-packages (from google-api-python-client<2,>=1.7.8->kfp<2.0.0,>=1.8.9->google_cloud_pipeline_components) (0.17.4)\n",
            "Requirement already satisfied: google-auth-httplib2>=0.0.3 in /usr/local/lib/python3.7/dist-packages (from google-api-python-client<2,>=1.7.8->kfp<2.0.0,>=1.8.9->google_cloud_pipeline_components) (0.0.4)\n",
            "Requirement already satisfied: rsa<5,>=3.1.4 in /usr/local/lib/python3.7/dist-packages (from google-auth<2.0dev,>=1.25.0->google-api-core!=2.0.*,!=2.1.*,!=2.2.*,!=2.3.0,<3.0.0dev,>=1.31.5->google_cloud_pipeline_components) (4.8)\n",
            "Requirement already satisfied: pyasn1-modules>=0.2.1 in /usr/local/lib/python3.7/dist-packages (from google-auth<2.0dev,>=1.25.0->google-api-core!=2.0.*,!=2.1.*,!=2.2.*,!=2.3.0,<3.0.0dev,>=1.31.5->google_cloud_pipeline_components) (0.2.8)\n",
            "Requirement already satisfied: cachetools<5.0,>=2.0.0 in /usr/local/lib/python3.7/dist-packages (from google-auth<2.0dev,>=1.25.0->google-api-core!=2.0.*,!=2.1.*,!=2.2.*,!=2.3.0,<3.0.0dev,>=1.31.5->google_cloud_pipeline_components) (4.2.4)\n",
            "Requirement already satisfied: python-dateutil<3.0dev,>=2.7.2 in /usr/local/lib/python3.7/dist-packages (from google-cloud-bigquery<3.0.0dev,>=1.15.0->google-cloud-aiplatform<2,>=1.11.0->google_cloud_pipeline_components) (2.8.2)\n",
            "Collecting grpc-google-iam-v1<1.0.0dev,>=0.12.4\n",
            "  Downloading grpc_google_iam_v1-0.12.4-py2.py3-none-any.whl (26 kB)\n",
            "Requirement already satisfied: google-crc32c<2.0dev,>=1.0 in /root/.local/lib/python3.7/site-packages (from google-resumable-media<3.0dev,>=1.3.0->google-cloud-storage<2,>=1.20.0->google_cloud_pipeline_components) (1.3.0)\n",
            "Requirement already satisfied: pyrsistent>=0.14.0 in /usr/local/lib/python3.7/dist-packages (from jsonschema<4,>=3.0.1->kfp<2.0.0,>=1.8.9->google_cloud_pipeline_components) (0.18.1)\n",
            "Requirement already satisfied: importlib-metadata in /usr/local/lib/python3.7/dist-packages (from jsonschema<4,>=3.0.1->kfp<2.0.0,>=1.8.9->google_cloud_pipeline_components) (4.11.4)\n",
            "Requirement already satisfied: attrs>=17.4.0 in /usr/local/lib/python3.7/dist-packages (from jsonschema<4,>=3.0.1->kfp<2.0.0,>=1.8.9->google_cloud_pipeline_components) (21.4.0)\n",
            "Requirement already satisfied: urllib3>=1.15 in /usr/local/lib/python3.7/dist-packages (from kfp-server-api<2.0.0,>=1.1.2->kfp<2.0.0,>=1.8.9->google_cloud_pipeline_components) (1.24.3)\n",
            "Requirement already satisfied: certifi in /usr/local/lib/python3.7/dist-packages (from kfp-server-api<2.0.0,>=1.1.2->kfp<2.0.0,>=1.8.9->google_cloud_pipeline_components) (2022.6.15)\n",
            "Requirement already satisfied: websocket-client!=0.40.0,!=0.41.*,!=0.42.*,>=0.32.0 in /root/.local/lib/python3.7/site-packages (from kubernetes<19,>=8.0.0->kfp<2.0.0,>=1.8.9->google_cloud_pipeline_components) (1.3.3)\n",
            "Requirement already satisfied: requests-oauthlib in /usr/local/lib/python3.7/dist-packages (from kubernetes<19,>=8.0.0->kfp<2.0.0,>=1.8.9->google_cloud_pipeline_components) (1.3.1)\n",
            "Requirement already satisfied: pyparsing!=3.0.5,>=2.0.2 in /usr/local/lib/python3.7/dist-packages (from packaging>=14.3->google-api-core!=2.0.*,!=2.1.*,!=2.2.*,!=2.3.0,<3.0.0dev,>=1.31.5->google_cloud_pipeline_components) (3.0.9)\n",
            "Requirement already satisfied: idna<3,>=2.5 in /usr/local/lib/python3.7/dist-packages (from requests<3.0.0dev,>=2.18.0->google-api-core!=2.0.*,!=2.1.*,!=2.2.*,!=2.3.0,<3.0.0dev,>=1.31.5->google_cloud_pipeline_components) (2.10)\n",
            "Requirement already satisfied: chardet<4,>=3.0.2 in /usr/local/lib/python3.7/dist-packages (from requests<3.0.0dev,>=2.18.0->google-api-core!=2.0.*,!=2.1.*,!=2.2.*,!=2.3.0,<3.0.0dev,>=1.31.5->google_cloud_pipeline_components) (3.0.4)\n",
            "Requirement already satisfied: wheel in /usr/local/lib/python3.7/dist-packages (from strip-hints<1,>=0.1.8->kfp<2.0.0,>=1.8.9->google_cloud_pipeline_components) (0.37.1)\n",
            "Requirement already satisfied: pyasn1<0.5.0,>=0.4.6 in /usr/local/lib/python3.7/dist-packages (from pyasn1-modules>=0.2.1->google-auth<2.0dev,>=1.25.0->google-api-core!=2.0.*,!=2.1.*,!=2.2.*,!=2.3.0,<3.0.0dev,>=1.31.5->google_cloud_pipeline_components) (0.4.8)\n",
            "Requirement already satisfied: zipp>=0.5 in /usr/local/lib/python3.7/dist-packages (from importlib-metadata->jsonschema<4,>=3.0.1->kfp<2.0.0,>=1.8.9->google_cloud_pipeline_components) (3.8.0)\n",
            "Requirement already satisfied: oauthlib>=3.0.0 in /usr/local/lib/python3.7/dist-packages (from requests-oauthlib->kubernetes<19,>=8.0.0->kfp<2.0.0,>=1.8.9->google_cloud_pipeline_components) (3.2.0)\n",
            "Installing collected packages: grpc-google-iam-v1, google-cloud-resource-manager, google-cloud-notebooks, google-cloud-aiplatform, google_cloud_pipeline_components\n",
            "  Attempting uninstall: google-cloud-aiplatform\n",
            "    Found existing installation: google-cloud-aiplatform 1.3.0\n",
            "    Uninstalling google-cloud-aiplatform-1.3.0:\n",
            "      Successfully uninstalled google-cloud-aiplatform-1.3.0\n",
            "Successfully installed google-cloud-aiplatform-1.15.0 google-cloud-notebooks-1.3.2 google-cloud-resource-manager-1.5.1 google_cloud_pipeline_components-1.0.13 grpc-google-iam-v1-0.12.4\n",
            "\u001b[33mWARNING: Running pip as the 'root' user can result in broken permissions and conflicting behaviour with the system package manager. It is recommended to use a virtual environment instead: https://pip.pypa.io/warnings/venv\u001b[0m\u001b[33m\n",
            "\u001b[0m"
          ]
        },
        {
          "output_type": "display_data",
          "data": {
            "application/vnd.colab-display-data+json": {
              "pip_warning": {
                "packages": [
                  "google"
                ]
              }
            }
          },
          "metadata": {}
        }
      ],
      "source": [
        "USER_FLAG = '--user'\n",
        "!pip install -U pip\n",
        "!pip3 install {USER_FLAG} google-cloud-aiplatform==1.3.0 --upgrade\n",
        "!pip3 install {USER_FLAG} kfp --upgrade\n",
        "!pip install google_cloud_pipeline_components"
      ]
    },
    {
      "cell_type": "code",
      "execution_count": 7,
      "metadata": {
        "id": "NKGK5mIhtrWU",
        "colab": {
          "base_uri": "https://localhost:8080/"
        },
        "outputId": "1890ac94-fddd-4be1-80a9-202e26844651"
      },
      "outputs": [
        {
          "output_type": "stream",
          "name": "stdout",
          "text": [
            "Drive already mounted at /content/drive; to attempt to forcibly remount, call drive.mount(\"/content/drive\", force_remount=True).\n",
            "/content/drive/MyDrive\n"
          ]
        }
      ],
      "source": [
        "import sys\n",
        "if 'google.colab' in sys.modules:\n",
        "  from google.colab import auth\n",
        "  auth.authenticate_user()\n",
        "\n",
        "from google.colab import drive\n",
        "drive.mount('/content/drive')\n",
        "%cd /content/drive/MyDrive/"
      ]
    },
    {
      "cell_type": "code",
      "execution_count": 9,
      "metadata": {
        "colab": {
          "base_uri": "https://localhost:8080/"
        },
        "id": "y_Pcc3FIuRaM",
        "outputId": "5a62a344-5277-496e-f568-544357dfe9aa"
      },
      "outputs": [
        {
          "output_type": "stream",
          "name": "stdout",
          "text": [
            "Updated property [core/project].\n",
            "Operation \"operations/acat.p2-352395168404-aa8602bf-4a6f-43da-a84e-d47e095e3e46\" finished successfully.\n"
          ]
        }
      ],
      "source": [
        "PROJECT_ID = 'churn-smu'\n",
        "REGION = 'asia-southeast1'\n",
        "BUCKET_NAME = 'practice-smu-123'\n",
        "\n",
        "! gcloud config set project {PROJECT_ID}\n",
        "! gcloud services enable  compute.googleapis.com \\\n",
        "                          containerregistry.googleapis.com \\\n",
        "                          aiplatform.googleapis.com \\\n",
        "                          cloudbuild.googleapis.com \\\n",
        "                          cloudfunctions.googleapis.com \\\n",
        "                          dataflow.googleapis.com"
      ]
    },
    {
      "cell_type": "code",
      "execution_count": 10,
      "metadata": {
        "id": "MyKBQSNZwFmQ"
      },
      "outputs": [],
      "source": [
        "from typing import NamedTuple\n",
        "from kfp.v2 import dsl\n",
        "from kfp.v2.dsl import Artifact, Dataset, Input, Model, Output, Metrics, ClassificationMetrics, component, OutputPath, InputPath\n",
        "import kfp\n",
        "from kfp.v2 import compiler\n",
        "from google.cloud import aiplatform\n",
        "from google.cloud.aiplatform import pipeline_jobs\n",
        "from google_cloud_pipeline_components import aiplatform as gcc_aip"
      ]
    },
    {
      "cell_type": "code",
      "execution_count": 11,
      "metadata": {
        "colab": {
          "base_uri": "https://localhost:8080/"
        },
        "id": "VfycoOKBxXeR",
        "outputId": "e9472b3d-df32-4b12-c573-74cc81101ce0"
      },
      "outputs": [
        {
          "output_type": "stream",
          "name": "stdout",
          "text": [
            "env: PATH=/opt/bin:/usr/local/nvidia/bin:/usr/local/cuda/bin:/usr/local/sbin:/usr/local/bin:/usr/sbin:/usr/bin:/sbin:/bin:/tools/node/bin:/tools/google-cloud-sdk/bin:/home/jupyter/.local/bin\n",
            "Project ID: churn-smu\n",
            "Pipeline Root: gs://practice-smu-123/churn/pipeline_root_churn\n",
            "GCS Bucket Name: practice-smu-123\n",
            "DataRoot Train Directory: gs://practice-smu-123/churn/data/dev\n"
          ]
        }
      ],
      "source": [
        "PATH=%env PATH\n",
        "%env PATH = {PATH}:/home/jupyter/.local/bin\n",
        "\n",
        "PIPELINE_ROOT = \"gs://\" + f'{BUCKET_NAME}/churn/pipeline_root_churn'\n",
        "DATA_ROOT_TRAIN = \"gs://\" + f\"{BUCKET_NAME}/churn/data/dev\"\n",
        "DATA_ROOT_EVAL = \"gs://\" + f\"{BUCKET_NAME}/churn/data/val\"\n",
        "DATA_ROOT_SERVE = \"gs://\" + f\"{BUCKET_NAME}/churn/data/serve\"\n",
        "\n",
        "print(f\"Project ID: {PROJECT_ID}\")\n",
        "print(f\"Pipeline Root: {PIPELINE_ROOT}\")\n",
        "print(f\"GCS Bucket Name: {BUCKET_NAME}\")\n",
        "print(f\"DataRoot Train Directory: {DATA_ROOT_TRAIN}\")"
      ]
    },
    {
      "cell_type": "code",
      "execution_count": 12,
      "metadata": {
        "colab": {
          "base_uri": "https://localhost:8080/"
        },
        "id": "rbfBeT7G0S36",
        "outputId": "b4b92e9a-c7c4-49e7-d1af-5cd7f7e4915b"
      },
      "outputs": [
        {
          "output_type": "stream",
          "name": "stdout",
          "text": [
            "Looking in indexes: https://pypi.org/simple, https://us-python.pkg.dev/colab-wheels/public/simple/\n",
            "Collecting virtualenv\n",
            "  Downloading virtualenv-20.15.1-py2.py3-none-any.whl (10.1 MB)\n",
            "\u001b[2K     \u001b[90m━━━━━━━━━━━━━━━━━━━━━━━━━━━━━━━━━━━━━━━━\u001b[0m \u001b[32m10.1/10.1 MB\u001b[0m \u001b[31m47.9 MB/s\u001b[0m eta \u001b[36m0:00:00\u001b[0m\n",
            "\u001b[?25hRequirement already satisfied: filelock<4,>=3.2 in /usr/local/lib/python3.7/dist-packages (from virtualenv) (3.7.1)\n",
            "Requirement already satisfied: importlib-metadata>=0.12 in /usr/local/lib/python3.7/dist-packages (from virtualenv) (4.11.4)\n",
            "Collecting distlib<1,>=0.3.1\n",
            "  Downloading distlib-0.3.4-py2.py3-none-any.whl (461 kB)\n",
            "\u001b[2K     \u001b[90m━━━━━━━━━━━━━━━━━━━━━━━━━━━━━━━━━━━━━━\u001b[0m \u001b[32m461.2/461.2 kB\u001b[0m \u001b[31m36.6 MB/s\u001b[0m eta \u001b[36m0:00:00\u001b[0m\n",
            "\u001b[?25hCollecting platformdirs<3,>=2\n",
            "  Downloading platformdirs-2.5.2-py3-none-any.whl (14 kB)\n",
            "Requirement already satisfied: six<2,>=1.9.0 in /usr/local/lib/python3.7/dist-packages (from virtualenv) (1.15.0)\n",
            "Requirement already satisfied: zipp>=0.5 in /usr/local/lib/python3.7/dist-packages (from importlib-metadata>=0.12->virtualenv) (3.8.0)\n",
            "Requirement already satisfied: typing-extensions>=3.6.4 in /root/.local/lib/python3.7/site-packages (from importlib-metadata>=0.12->virtualenv) (3.10.0.2)\n",
            "Installing collected packages: distlib, platformdirs, virtualenv\n",
            "\u001b[33m  WARNING: The script virtualenv is installed in '/root/.local/bin' which is not on PATH.\n",
            "  Consider adding this directory to PATH or, if you prefer to suppress this warning, use --no-warn-script-location.\u001b[0m\u001b[33m\n",
            "\u001b[0mSuccessfully installed distlib-0.3.4 platformdirs-2.5.2 virtualenv-20.15.1\n",
            "\u001b[33mWARNING: Running pip as the 'root' user can result in broken permissions and conflicting behaviour with the system package manager. It is recommended to use a virtual environment instead: https://pip.pypa.io/warnings/venv\u001b[0m\u001b[33m\n",
            "\u001b[0mcreate env\n",
            "Error: Command '['/content/drive/MyDrive/vertex_venv/bin/python3', '-Im', 'ensurepip', '--upgrade', '--default-pip']' returned non-zero exit status 1.\n",
            "Add kernel to jupyter\n",
            "Installed kernelspec vertex_env in /root/.local/share/jupyter/kernels/vertex_env\n"
          ]
        }
      ],
      "source": [
        "! python -m pip install --user virtualenv\n",
        "! echo \"create env\"\n",
        "! python -m venv vertex_venv\n",
        "! echo \"Add kernel to jupyter\"\n",
        "! ipython kernel install --name \"vertex_env\" --user "
      ]
    },
    {
      "cell_type": "code",
      "execution_count": 24,
      "metadata": {
        "id": "KQT0OikpSARh"
      },
      "outputs": [],
      "source": [
        "ingest = kfp.components.load_component_from_file(\"./yaml files/data_ingest_component.yaml\")\n",
        "tfdv_validate = kfp.components.load_component_from_file(\"./yaml files/py/tfdv_component_py.yaml\")\n",
        "impute_and_store = kfp.components.load_component_from_file(\"./yaml files/data_impute_component.yaml\")\n",
        "impute = kfp.components.load_component_from_file(\"./yaml files/py/impute_component_py.yaml\")\n",
        "enc_and_scl = kfp.components.load_component_from_file(\"./yaml files/py/encode_and_scale_component_py.yaml\")\n",
        "enc_and_scl_store = kfp.components.load_component_from_file(\"./yaml files/data_enc_scl_store_component.yaml\")\n",
        "hyperparameter_tuning = kfp.components.load_component_from_file(\"./yaml files/hyperparameter_tuning_component.yaml\")\n",
        "train_churn = kfp.components.load_component_from_file(\"./yaml files/py/train_component_py.yaml\")\n",
        "check_model_metrics = kfp.components.load_component_from_file(\"./yaml files/py/check_model_metrics_component_py.yaml\")\n",
        "deploy_churn_model = kfp.components.load_component_from_file(\"./yaml files/py/model_churn_prediction_component_py.yaml\")\n",
        "test_endpoint = kfp.components.load_component_from_file(\"./yaml files/py/test_endpoint_py.yaml\")"
      ]
    },
    {
      "cell_type": "code",
      "execution_count": null,
      "metadata": {
        "id": "y2mgDheLVYwO"
      },
      "outputs": [],
      "source": [
        "@component(base_image = \"python:3.9\")\n",
        "\n",
        "def check_model_metrics(model: Input[Model],\n",
        "                        thresholds_dict_str: str,\n",
        "                        ) -> NamedTuple(\"output\",[(\"deploy\",str)]):\n",
        "\n",
        "    import json\n",
        "\n",
        "    def threshold_check(val1,val2):\n",
        "        cond = \"False\"\n",
        "        if val1 > val2:\n",
        "            cond = \"True\"\n",
        "        return cond\n",
        "\n",
        "    metric = model.metadata[\"f1_score\"]\n",
        "    thresholds_dict = json.loads(thresholds_dict_str)\n",
        "    deploy = threshold_check(float(metric), thresholds_dict['f1_score'])\n",
        "\n",
        "    return (deploy,)"
      ]
    },
    {
      "cell_type": "code",
      "execution_count": null,
      "metadata": {
        "id": "1cAQ3h02gsf6"
      },
      "outputs": [],
      "source": [
        "@component(packages_to_install=[\"google-cloud-aiplatform\", \"sklearn\", \"kfp\"],\n",
        "           base_image = \"python:3.9\",\n",
        "           output_component_file = \"model_churn_prediction_component.yaml\")\n",
        "\n",
        "def deploy_churn_model(model: Input[Model],\n",
        "                       project: str, region: str,\n",
        "                       serving_container_image_uri: str,\n",
        "                   #    vertex_endpoint: Output[Artifact],\n",
        "                       vertex_model: Output[Model]) -> NamedTuple(\"output\",[(\"endpoint\",str)]):\n",
        "    from google.cloud import aiplatform\n",
        "    aiplatform.init(project = project, location = region)\n",
        "\n",
        "    DISPLAY_NAME = \"churn_prediction_v2\"\n",
        "    MODEL_NAME = \"churn_rf_v2\"\n",
        "    ENDPOINT_NAME = \"churn_endpoint_v2\"\n",
        "\n",
        "    def create_endpoint():\n",
        "        endpoints = aiplatform.Endpoint.list(\n",
        "            filter = 'display_name = \"{}\"'.format(ENDPOINT_NAME),\n",
        "            order_by = 'create_time desc',\n",
        "            project = project,\n",
        "            location = region,\n",
        "        )\n",
        "\n",
        "        if len(endpoints) > 0:\n",
        "            endpoint = endpoints[0]\n",
        "        else:\n",
        "            endpoint = aiplatform.Endpoint.create(display_name = ENDPOINT_NAME,\n",
        "                                                  project = project,\n",
        "                                                  location = region)\n",
        "            \n",
        "        return endpoint\n",
        "    \n",
        "    endpoint = create_endpoint()\n",
        "    endpoint_info = endpoint.resource_name.split('/')[-1]\n",
        "    \n",
        "    model_upload = aiplatform.Model.upload(display_name = DISPLAY_NAME,\n",
        "                                           artifact_uri = model.uri.replace(\"model\",\"\"),\n",
        "                                           serving_container_image_uri = serving_container_image_uri,\n",
        "                                           serving_container_health_route=f'/v1/models/{MODEL_NAME}',\n",
        "                                           serving_container_predict_route=f'/v1/models/{MODEL_NAME}:predict',\n",
        "                                           serving_container_environment_variables = {\"MODEL_NAME\":MODEL_NAME,},\n",
        "                                           )\n",
        "    \n",
        "    model_deploy = model_upload.deploy(machine_type = \"n1-standard-4\",\n",
        "                                      endpoint = endpoint,\n",
        "                                      traffic_split = {\"0\":100},\n",
        "                                      deployed_model_display_name = DISPLAY_NAME)\n",
        "    \n",
        "    vertex_model.uri = model_deploy.resource_name\n",
        "    return (endpoint_info,)"
      ]
    },
    {
      "cell_type": "code",
      "execution_count": 15,
      "metadata": {
        "id": "tQZjf7KxsYXV"
      },
      "outputs": [],
      "source": [
        "from datetime import datetime\n",
        "TIMESTAMP = datetime.now().strftime(\"%Y%m%d%H%M%S\")\n",
        "DISPLAY_NAME = \"pipeline-churn-prediction-job{}\".format(TIMESTAMP)"
      ]
    },
    {
      "cell_type": "code",
      "execution_count": null,
      "metadata": {
        "id": "BaVxH5j7ub5T"
      },
      "outputs": [],
      "source": [
        "@component(packages_to_install = [\"google-cloud-aiplatform\"],\n",
        "           base_image = \"python:3.9\") \n",
        "\n",
        "def test_endpoint(project: str,\n",
        "                  location: str,\n",
        "                  endpoint: str,) -> NamedTuple(\"output\",[(\"endpoint_status\",str)]):\n",
        "    \n",
        "    from google.cloud import aiplatform\n",
        "\n",
        "    aiplatform.init(project=project, location=location)\n",
        "\n",
        "    instance = [[0.0, 1.0, 1.0, 0.0, 0.0, 0.0, 0.0, 0.0, 1.0, 0.0,\n",
        "                 0.0, 1.0, 0.0, 0.0, 0.0, 0.0, 0.0, 1.0, 0.0, 1.0,\n",
        "                 0.0, 0.0, -0.210, -0.695, 0.341, -0.528, 1.282, -1.632, 1.568, 1.309]]\n",
        "\n",
        "    endpoint = aiplatform.Endpoint(endpoint)\n",
        "\n",
        "    prediction = endpoint.predict(instances=instance)\n",
        "    assert int(prediction[0][0]) in [0, 1], \"Prediction Error\"\n",
        "    return (\"OK\",)"
      ]
    },
    {
      "cell_type": "markdown",
      "source": [
        "## Pipeline for development (Generation of Artifacts)"
      ],
      "metadata": {
        "id": "2rte5a4JU7zZ"
      }
    },
    {
      "cell_type": "code",
      "execution_count": null,
      "metadata": {
        "id": "Kne4YXkBwWkg"
      },
      "outputs": [],
      "source": [
        "@dsl.pipeline(pipeline_root = PIPELINE_ROOT, name = \"pipeline-churn-prediction\")\n",
        "\n",
        "def pipeline(data_root_train: str = DATA_ROOT_TRAIN + '/dev.csv',\n",
        "             data_root_dev: str = DATA_ROOT_EVAL + '/eval.csv',\n",
        "             bucket_name: str = BUCKET_NAME,\n",
        "             project: str = PROJECT_ID,\n",
        "             region: str = REGION,\n",
        "             display_name: str = DISPLAY_NAME,\n",
        "             api_endpoint: str = REGION + '-aiplatform.googleapis.com',\n",
        "             threshold_dict_str: str = '{\"f1_score\":0.6}',\n",
        "             serving_container_image_uri: str = \"europe-docker.pkg.dev/vertex-ai/prediction/sklearn-cpu.0-24:latest\",\n",
        "             gcs_temp_location: str = f'gs://{BUCKET_NAME}/churn/tmp',\n",
        "             gcs_staging_location: str = f'gs://{BUCKET_NAME}/churn/staging',\n",
        "             ):\n",
        "    \n",
        "    data_train_op = ingest(data_root_train)\n",
        "\n",
        "    data_validation_op = tfdv_validate(data_train_op.outputs['dataset'],\n",
        "                                       project_id = project, region = region, bucket = bucket_name,\n",
        "                                       gcs_temp_location = gcs_temp_location,\n",
        "                                       gcs_staging_location = gcs_staging_location)\n",
        "    \n",
        "    impute_train_op = impute_and_store(data_validation_op.outputs['output_data'], \n",
        "                                         bucket = bucket_name)\n",
        "    \n",
        "    encode_train_op = enc_and_scl_store(impute_train_op.outputs['post_impute_dataset'],\n",
        "                                            bucket_name = bucket_name)\n",
        "\n",
        "    hypertune_op = hyperparameter_tuning(encode_train_op.outputs['post_enc_dataset'],\n",
        "                                        bucket_name = bucket_name)\n",
        "\n",
        "    train_model_op = train_churn(encode_train_op.outputs['post_enc_dataset'],\n",
        "                                bucket_name = bucket_name).after(hypertune_op)\n",
        "\n",
        "    check_model_metrics_op = check_model_metrics(model = train_model_op.outputs['model'],\n",
        "                                                thresholds_dict_str = threshold_dict_str)\n",
        "    \n",
        "    with dsl.Condition(\n",
        "        check_model_metrics_op.outputs['deploy'] == \"True\",\n",
        "        name = \"deploy-churn\",):\n",
        "        deploy_model_op = deploy_churn_model(model = train_model_op.outputs['model'],\n",
        "                                            project = project,\n",
        "                                            region = region,\n",
        "                                            serving_container_image_uri = serving_container_image_uri)\n",
        "        test_endpoint_op = test_endpoint(project = project,\n",
        "                                         location = region,\n",
        "                                         endpoint = deploy_model_op.outputs['endpoint'])\n",
        "        \n",
        "compiler.Compiler().compile(pipeline_func = pipeline,\n",
        "                            package_path = 'churn_prediction.json')\n",
        "start_pipeline = pipeline_jobs.PipelineJob(display_name = 'churn-prediction-pipeline',\n",
        "                                           template_path = 'churn_prediction.json',\n",
        "                                           enable_caching = False,\n",
        "                                           location = REGION,\n",
        "                                           project = PROJECT_ID,\n",
        "                                           )\n",
        "start_pipeline.run()"
      ]
    },
    {
      "cell_type": "markdown",
      "source": [
        "## Pipeline for retraining"
      ],
      "metadata": {
        "id": "O-HGmTzIUNT_"
      }
    },
    {
      "cell_type": "code",
      "source": [
        "@dsl.pipeline(pipeline_root = PIPELINE_ROOT, name = \"pipeline-churn-prediction\")\n",
        "\n",
        "def pipeline(data_root_train: str = DATA_ROOT_TRAIN + '/dev.csv',\n",
        "             data_root_dev: str = DATA_ROOT_EVAL + '/eval.csv',\n",
        "             bucket_name: str = BUCKET_NAME,\n",
        "             project: str = PROJECT_ID,\n",
        "             region: str = REGION,\n",
        "             display_name: str = DISPLAY_NAME,\n",
        "             api_endpoint: str = REGION + '-aiplatform.googleapis.com',\n",
        "             threshold_dict_str: str = '{\"f1_score\":0.6}',\n",
        "             serving_container_image_uri: str = \"europe-docker.pkg.dev/vertex-ai/prediction/sklearn-cpu.0-24:latest\",\n",
        "             gcs_temp_location: str = f'gs://{BUCKET_NAME}/churn/tmp',\n",
        "             gcs_staging_location: str = f'gs://{BUCKET_NAME}/churn/staging',\n",
        "             ):\n",
        "    \n",
        "    data_train_op = ingest(data_root_train)\n",
        "\n",
        "    data_validation_op = tfdv_validate(data_train_op.outputs['dataset'],\n",
        "                                       project_id = project, region = region, bucket = bucket_name,\n",
        "                                       gcs_temp_location = gcs_temp_location,\n",
        "                                       gcs_staging_location = gcs_staging_location)\n",
        "    \n",
        "    impute_train_op = impute(data_validation_op.outputs['output_data'], \n",
        "                                         bucket = bucket_name)\n",
        "    \n",
        "    encode_train_op = enc_and_scl(impute_train_op.outputs['post_impute_dataset'],\n",
        "                                            bucket_name = bucket_name)\n",
        "\n",
        "    train_model_op = train_churn(encode_train_op.outputs['post_enc_dataset'],\n",
        "                                bucket_name = bucket_name)\n",
        "\n",
        "    check_model_metrics_op = check_model_metrics(model = train_model_op.outputs['model'],\n",
        "                                                 thresholds_dict_str = threshold_dict_str)\n",
        "    \n",
        "    with dsl.Condition(\n",
        "        check_model_metrics_op.outputs['deploy'] == \"True\",\n",
        "        name = \"deploy-churn\",):\n",
        "        deploy_model_op = deploy_churn_model(model = train_model_op.outputs['model'],\n",
        "                                            project = project,\n",
        "                                            region = region,\n",
        "                                            serving_container_image_uri = serving_container_image_uri)\n",
        "        test_endpoint_op = test_endpoint(project = project,\n",
        "                                         location = region,\n",
        "                                         endpoint = deploy_model_op.outputs['endpoint'])\n",
        "        \n",
        "compiler.Compiler().compile(pipeline_func = pipeline,\n",
        "                            package_path = 'churn_prediction.json')\n",
        "start_pipeline = pipeline_jobs.PipelineJob(display_name = 'churn-prediction-pipeline',\n",
        "                                           template_path = 'churn_prediction.json',\n",
        "                                           enable_caching = False,\n",
        "                                           location = REGION,\n",
        "                                           project = PROJECT_ID,\n",
        "                                           )\n",
        "start_pipeline.run()"
      ],
      "metadata": {
        "id": "AD_phycATLby"
      },
      "execution_count": null,
      "outputs": []
    },
    {
      "cell_type": "markdown",
      "metadata": {
        "id": "RcTbg3QgZegg"
      },
      "source": [
        "## Batch Prediction Job"
      ]
    },
    {
      "cell_type": "code",
      "execution_count": null,
      "metadata": {
        "colab": {
          "base_uri": "https://localhost:8080/"
        },
        "id": "zMbi3OqeZdht",
        "outputId": "5afc16a9-f7cc-4f35-9c02-735c996fdda5"
      },
      "outputs": [
        {
          "name": "stdout",
          "output_type": "stream",
          "text": [
            "Model Resource Name: projects/practice-smu/locations/asia-southeast1/models/3217223799430709248\n",
            "GCS Source: gs://practice-smu/churn/data/serve/serve4.csv\n",
            "GCS Destination: gs://practice-smu/churn/data/serve/output\n"
          ]
        }
      ],
      "source": [
        "job_display_name = \"churn-batch-prediction-job\"\n",
        "MODEL_NAME=\"churn-prediction\"\n",
        "BUCKET_URI=\"gs://practice-smu/churn/data/serve\"\n",
        "input_file_name=\"serve4.csv\"\n",
        "\n",
        "MODEL_ID=!(gcloud ai models list --region=$REGION --filter=display_name=$MODEL_NAME)\n",
        "MODEL_ID=MODEL_ID[2].split(\" \")[0]\n",
        "\n",
        "model_resource_name = f'projects/{PROJECT_ID}/locations/{REGION}/models/{MODEL_ID}'\n",
        "gcs_source= f\"{BUCKET_URI}/{input_file_name}\"\n",
        "gcs_destination_prefix=f\"{BUCKET_URI}/output\"\n",
        "print(f'Model Resource Name: {model_resource_name}')\n",
        "print(f'GCS Source: {gcs_source}')\n",
        "print(f'GCS Destination: {gcs_destination_prefix}')"
      ]
    },
    {
      "cell_type": "code",
      "execution_count": null,
      "metadata": {
        "id": "3dqSR2h_zPUb"
      },
      "outputs": [],
      "source": [
        "def batch_prediction_job(\n",
        "    project: str,\n",
        "    location: str,\n",
        "    model_resource_name: str,\n",
        "    job_display_name: str,\n",
        "    gcs_source: str,\n",
        "    gcs_destination_prefix: str,\n",
        "    machine_type: str,\n",
        "    starting_replica_count: int = 1, # The number of nodes for this batch prediction job. \n",
        "    max_replica_count: int = 1,    \n",
        "):   \n",
        "    aiplatform.init(project=project, location=location)\n",
        "\n",
        "    model = aiplatform.Model(model_resource_name)\n",
        "    batch_prediction_job = model.batch_predict(\n",
        "        job_display_name=job_display_name,\n",
        "        instances_format='csv', #json\n",
        "\n",
        "        gcs_source=[f\"{BUCKET_URI}/{input_file_name}\"],\n",
        "        gcs_destination_prefix=f\"{BUCKET_URI}/output\",\n",
        "        machine_type=machine_type, # must be present      \n",
        "    )\n",
        "    batch_prediction_job.wait()\n",
        "    print(batch_prediction_job.display_name)\n",
        "    print(batch_prediction_job.state)\n",
        "    return batch_prediction_job\n",
        "\n",
        "batch_prediction_job(PROJECT_ID, REGION, model_resource_name, job_display_name, gcs_source, gcs_destination_prefix, machine_type=\"n1-standard-4\")"
      ]
    },
    {
      "cell_type": "code",
      "execution_count": null,
      "metadata": {
        "id": "YJXZGPU-3Gpz"
      },
      "outputs": [],
      "source": [
        "from google.cloud import aiplatform\n",
        "\n",
        "def endpoint_predict_sample(\n",
        "    project: str,\n",
        "    location: str,\n",
        "    instances: list,\n",
        "    endpoint: str,\n",
        "):\n",
        "    aiplatform.init(project=project, location=location)\n",
        "\n",
        "    instance = [[0.0, 1.0, 1.0, 0.0, 0.0, 0.0, 0.0, 0.0, 1.0, 0.0,\n",
        "                 0.0, 1.0, 0.0, 0.0, 0.0, 0.0, 0.0, 1.0, 0.0, 1.0,\n",
        "                 0.0, 0.0, -0.210, -0.695, 0.341, -0.528, 1.282, -1.632, 1.568, 1.309]]\n",
        "\n",
        "    endpoint = aiplatform.Endpoint(endpoint)\n",
        "\n",
        "    prediction = endpoint.predict(instances=instances)\n",
        "    return prediction"
      ]
    },
    {
      "cell_type": "code",
      "execution_count": null,
      "metadata": {
        "id": "d2seiUBVDCeR"
      },
      "outputs": [],
      "source": [
        "x = endpoint_predict_sample(project = PROJECT_ID,\n",
        "                        location = REGION,\n",
        "                        instances = [example.tolist()],\n",
        "                        endpoint = '4598069666429009920')"
      ]
    },
    {
      "cell_type": "markdown",
      "source": [
        "## Cloud Scheduler"
      ],
      "metadata": {
        "id": "ELW4zeewP5eM"
      }
    },
    {
      "cell_type": "code",
      "execution_count": null,
      "metadata": {
        "id": "avcQQGH33dKw"
      },
      "outputs": [],
      "source": [
        "from kfp.v2.google.client import AIPlatformClient\n",
        "\n",
        "api_client = AIPlatformClient(\n",
        "                project_id=PROJECT_ID,\n",
        "                region=REGION,\n",
        "                )\n",
        "\n",
        "SERVICE_ACCOUNT = (\n",
        "    \"352395168404@developer.gserviceaccount.com\" # Replace the Xs with your generated service-account.\n",
        ")\n",
        "response = api_client.create_schedule_from_job_spec(\n",
        "    enable_caching=True,\n",
        "    job_spec_path=\"churn_prediction.json\",\n",
        "    schedule=\"0 0 4 * *\",\n",
        "    time_zone=\"Asia/Singapore\",  # change this as necessary\n",
        "    parameter_values={\"display_name\": 'test1'},\n",
        "    pipeline_root=PIPELINE_ROOT,  \n",
        "    service_account=SERVICE_ACCOUNT,    \n",
        ")"
      ]
    }
  ],
  "metadata": {
    "colab": {
      "collapsed_sections": [],
      "name": "pipeline_orchestration.ipynb",
      "provenance": []
    },
    "environment": {
      "kernel": "python3",
      "name": "tf2-gpu.2-6.m93",
      "type": "gcloud",
      "uri": "gcr.io/deeplearning-platform-release/tf2-gpu.2-6:m93"
    },
    "kernelspec": {
      "display_name": "Python 3",
      "language": "python",
      "name": "python3"
    },
    "language_info": {
      "codemirror_mode": {
        "name": "ipython",
        "version": 3
      },
      "file_extension": ".py",
      "mimetype": "text/x-python",
      "name": "python",
      "nbconvert_exporter": "python",
      "pygments_lexer": "ipython3",
      "version": "3.7.12"
    }
  },
  "nbformat": 4,
  "nbformat_minor": 0
}